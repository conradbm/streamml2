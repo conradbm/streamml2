{
 "cells": [
  {
   "cell_type": "markdown",
   "metadata": {},
   "source": [
    "## streamml2\n",
    "<hr>\n",
    "\n",
    "Example usage of FeatureSelectionStream"
   ]
  },
  {
   "cell_type": "markdown",
   "metadata": {},
   "source": [
    "Feature Selection Params:\n",
    "\n",
    "`\n",
    "    def flow(self, \n",
    "             models_to_flow=[], \n",
    "             params=None, \n",
    "             test_size=0.2, \n",
    "             nfolds=3, \n",
    "             nrepeats=3,\n",
    "             pos_split=1,\n",
    "             n_jobs=1, \n",
    "             metrics=[], \n",
    "             verbose=False, \n",
    "             regressors=True,\n",
    "             cut=None,\n",
    "             ensemble=False):\n",
    "`\n",
    "\n",
    "Feature Selection Models:\n",
    "\n",
    "`regression_options = {\"mixed_selection\" : mixed_selection,\n",
    "                       \"svr\" : supportVectorRegression,\n",
    "                       \"rfr\":randomForestRegression,\n",
    "                       \"abr\":adaptiveBoostingRegression,\n",
    "                       \"lasso\":lassoRegression,\n",
    "                       \"enet\":elasticNetRegression,\n",
    "                       \"plsr\":partialLeastSquaresRegression}`\n",
    "\n",
    "`classification_options = {'abc':adaptiveBoostingClassifier,\n",
    "                            'rfc':randomForestClassifier,\n",
    "                            'svc':supportVectorClassifier\n",
    "                         }`"
   ]
  },
  {
   "cell_type": "code",
   "execution_count": 1,
   "metadata": {},
   "outputs": [
    {
     "name": "stdout",
     "output_type": "stream",
     "text": [
      "Requirement already up-to-date: streamml2 in c:\\users\\bmccs\\appdata\\local\\continuum\\anaconda3\\lib\\site-packages (0.1)\n",
      "Requirement already satisfied, skipping upgrade: scipy in c:\\users\\bmccs\\appdata\\local\\continuum\\anaconda3\\lib\\site-packages (from streamml2) (1.1.0)\n",
      "Requirement already satisfied, skipping upgrade: statsmodels in c:\\users\\bmccs\\appdata\\local\\continuum\\anaconda3\\lib\\site-packages (from streamml2) (0.9.0)\n",
      "Requirement already satisfied, skipping upgrade: pandas in c:\\users\\bmccs\\appdata\\local\\continuum\\anaconda3\\lib\\site-packages (from streamml2) (0.23.4)\n",
      "Requirement already satisfied, skipping upgrade: seaborn in c:\\users\\bmccs\\appdata\\local\\continuum\\anaconda3\\lib\\site-packages (from streamml2) (0.9.0)\n",
      "Requirement already satisfied, skipping upgrade: scikit-criteria in c:\\users\\bmccs\\appdata\\local\\continuum\\anaconda3\\lib\\site-packages (from streamml2) (0.2.10)\n",
      "Requirement already satisfied, skipping upgrade: matplotlib in c:\\users\\bmccs\\appdata\\local\\continuum\\anaconda3\\lib\\site-packages (from streamml2) (3.0.2)\n",
      "Requirement already satisfied, skipping upgrade: sklearn in c:\\users\\bmccs\\appdata\\local\\continuum\\anaconda3\\lib\\site-packages (from streamml2) (0.0)\n",
      "Requirement already satisfied, skipping upgrade: numpy in c:\\users\\bmccs\\appdata\\local\\continuum\\anaconda3\\lib\\site-packages (from streamml2) (1.15.4)\n",
      "Requirement already satisfied, skipping upgrade: python-dateutil>=2.5.0 in c:\\users\\bmccs\\appdata\\local\\continuum\\anaconda3\\lib\\site-packages (from pandas->streamml2) (2.7.5)\n",
      "Requirement already satisfied, skipping upgrade: pytz>=2011k in c:\\users\\bmccs\\appdata\\local\\continuum\\anaconda3\\lib\\site-packages (from pandas->streamml2) (2018.7)\n",
      "Requirement already satisfied, skipping upgrade: json-tricks in c:\\users\\bmccs\\appdata\\local\\continuum\\anaconda3\\lib\\site-packages (from scikit-criteria->streamml2) (3.12.2)\n",
      "Requirement already satisfied, skipping upgrade: pulp in c:\\users\\bmccs\\appdata\\local\\continuum\\anaconda3\\lib\\site-packages (from scikit-criteria->streamml2) (1.6.9)\n",
      "Requirement already satisfied, skipping upgrade: tabulate in c:\\users\\bmccs\\appdata\\local\\continuum\\anaconda3\\lib\\site-packages (from scikit-criteria->streamml2) (0.8.2)\n",
      "Requirement already satisfied, skipping upgrade: attrs in c:\\users\\bmccs\\appdata\\local\\continuum\\anaconda3\\lib\\site-packages (from scikit-criteria->streamml2) (18.2.0)\n",
      "Requirement already satisfied, skipping upgrade: six in c:\\users\\bmccs\\appdata\\local\\continuum\\anaconda3\\lib\\site-packages (from scikit-criteria->streamml2) (1.12.0)\n",
      "Requirement already satisfied, skipping upgrade: pytest in c:\\users\\bmccs\\appdata\\local\\continuum\\anaconda3\\lib\\site-packages (from scikit-criteria->streamml2) (4.0.2)\n",
      "Requirement already satisfied, skipping upgrade: mock in c:\\users\\bmccs\\appdata\\local\\continuum\\anaconda3\\lib\\site-packages (from scikit-criteria->streamml2) (2.0.0)\n",
      "Requirement already satisfied, skipping upgrade: joblib in c:\\users\\bmccs\\appdata\\local\\continuum\\anaconda3\\lib\\site-packages (from scikit-criteria->streamml2) (0.13.1)\n",
      "Requirement already satisfied, skipping upgrade: cycler>=0.10 in c:\\users\\bmccs\\appdata\\local\\continuum\\anaconda3\\lib\\site-packages (from matplotlib->streamml2) (0.10.0)\n",
      "Requirement already satisfied, skipping upgrade: kiwisolver>=1.0.1 in c:\\users\\bmccs\\appdata\\local\\continuum\\anaconda3\\lib\\site-packages (from matplotlib->streamml2) (1.0.1)\n",
      "Requirement already satisfied, skipping upgrade: pyparsing!=2.0.4,!=2.1.2,!=2.1.6,>=2.0.1 in c:\\users\\bmccs\\appdata\\local\\continuum\\anaconda3\\lib\\site-packages (from matplotlib->streamml2) (2.3.0)\n",
      "Requirement already satisfied, skipping upgrade: scikit-learn in c:\\users\\bmccs\\appdata\\local\\continuum\\anaconda3\\lib\\site-packages (from sklearn->streamml2) (0.20.1)\n",
      "Requirement already satisfied, skipping upgrade: py>=1.5.0 in c:\\users\\bmccs\\appdata\\local\\continuum\\anaconda3\\lib\\site-packages (from pytest->scikit-criteria->streamml2) (1.7.0)\n",
      "Requirement already satisfied, skipping upgrade: setuptools in c:\\users\\bmccs\\appdata\\local\\continuum\\anaconda3\\lib\\site-packages (from pytest->scikit-criteria->streamml2) (40.6.3)\n",
      "Requirement already satisfied, skipping upgrade: more-itertools>=4.0.0 in c:\\users\\bmccs\\appdata\\local\\continuum\\anaconda3\\lib\\site-packages (from pytest->scikit-criteria->streamml2) (4.3.0)\n",
      "Requirement already satisfied, skipping upgrade: atomicwrites>=1.0 in c:\\users\\bmccs\\appdata\\local\\continuum\\anaconda3\\lib\\site-packages (from pytest->scikit-criteria->streamml2) (1.2.1)\n",
      "Requirement already satisfied, skipping upgrade: pluggy>=0.7 in c:\\users\\bmccs\\appdata\\local\\continuum\\anaconda3\\lib\\site-packages (from pytest->scikit-criteria->streamml2) (0.8.0)\n",
      "Requirement already satisfied, skipping upgrade: colorama in c:\\users\\bmccs\\appdata\\local\\continuum\\anaconda3\\lib\\site-packages (from pytest->scikit-criteria->streamml2) (0.4.1)\n",
      "Requirement already satisfied, skipping upgrade: pbr>=0.11 in c:\\users\\bmccs\\appdata\\local\\continuum\\anaconda3\\lib\\site-packages (from mock->scikit-criteria->streamml2) (5.1.1)\n"
     ]
    }
   ],
   "source": [
    "!pip install --force-reinstall streamml2"
   ]
  },
  {
   "cell_type": "code",
   "execution_count": 2,
   "metadata": {},
   "outputs": [
    {
     "name": "stdout",
     "output_type": "stream",
     "text": [
      "*************************\n",
      "=> (Classifier) => Feature Selection Streamline: rfc --> abc --> svc\n",
      "*************************\n",
      "Constructed RandomForestClassifierPredictiveModel: rfc\n",
      "Returning rfc best estiminator\n",
      "Constructed AdaptiveBoostingClassifierPredictiveModel: abc\n",
      "Returning abc best estiminator\n",
      "Constructed SupportVectorClassifierPredictiveModel: svc\n",
      "Returning svc best estiminator\n",
      " 50.0  % -> (2) features kept.\n",
      "['petal length (cm)', 'petal width (cm)']\n",
      "Feature data ...\n",
      "        rfc   abc       svc\n",
      "0  0.092803  0.06  0.000238\n",
      "1  0.040814  0.00  0.033805\n",
      "2  0.402965  0.46  1.062634\n",
      "3  0.463418  0.48  0.295574\n",
      "Features rankings decision maker...\n",
      "                   TOPSIS  WeightedSum  WeightedProduct\n",
      "sepal length (cm)       3            3                4\n",
      "sepal width (cm)        4            4                3\n",
      "petal length (cm)       1            1                1\n",
      "petal width (cm)        2            2                2\n",
      "Reduced data ...\n",
      "   petal length (cm)  petal width (cm)\n",
      "0                1.4               0.2\n",
      "1                1.4               0.2\n",
      "2                1.3               0.2\n",
      "3                1.5               0.2\n",
      "4                1.4               0.2\n",
      "*************************\n",
      "=> (Regressor) => Feature Selection Streamline: plsr --> mixed_selection --> rfr --> abr --> svr\n",
      "*************************\n",
      "Executing: plsr\n",
      "Executing: mixed_selection\n",
      "Adding  LSTAT                          with p-value 5.0811e-88\n",
      "Adding  RM                             with p-value 3.47226e-27\n",
      "Adding  PTRATIO                        with p-value 1.64466e-14\n",
      "Adding  DIS                            with p-value 1.66847e-05\n",
      "Adding  NOX                            with p-value 5.48815e-08\n",
      "Adding  CHAS                           with p-value 0.000265473\n",
      "Adding  B                              with p-value 0.000771946\n",
      "Adding  ZN                             with p-value 0.00465162\n",
      "Constructed RandomForestRegressorPredictiveModel: rfr\n",
      "Returning rfr best estiminator\n",
      "Constructed AdaptiveBoostingRegressorPredictiveModel: abr\n",
      "Returning abr best estiminator\n",
      "Constructed SupportVectorRegressorPredictiveModel: svr\n",
      "Returning svr best estiminator\n",
      " 50.0  % -> (7) features kept.\n",
      "['NOX', 'DIS', 'RM', 'LSTAT', 'CHAS', 'PTRATIO', 'B']\n"
     ]
    }
   ],
   "source": [
    "import pandas as pd\n",
    "import numpy as np\n",
    "from streamml2.streams import FeatureSelectionStream\n",
    "from sklearn.datasets import load_iris\n",
    "iris=load_iris()\n",
    "X=pd.DataFrame(iris['data'], columns=iris['feature_names'])\n",
    "y=pd.DataFrame(iris['target'], columns=['target'])\n",
    "\n",
    "return_dict = FeatureSelectionStream(X,y).flow([\"rfc\", \"abc\", \"svc\"],\n",
    "                                                params={},\n",
    "                                                verbose=True,\n",
    "                                                regressors=False,\n",
    "                                                ensemble=True,\n",
    "                                                featurePercentage=0.5,\n",
    "                                                n_jobs=3)\n",
    "\n",
    "print(\"Feature data ...\")\n",
    "print(pd.DataFrame(return_dict['feature_importances']))\n",
    "print(\"Features rankings decision maker...\")\n",
    "print(return_dict['ensemble_results'])\n",
    "print(\"Reduced data ...\")\n",
    "print(X[return_dict['kept_features']].head())\n",
    "\n",
    "from sklearn.datasets import load_boston\n",
    "boston=load_boston()\n",
    "X=pd.DataFrame(boston['data'], columns=boston['feature_names'])\n",
    "y=pd.DataFrame(boston['target'],columns=[\"target\"])\n",
    "\n",
    "return_dict = FeatureSelectionStream(X,y).flow([\"plsr\", \"mixed_selection\", \"rfr\", \"abr\", \"svr\"],\n",
    "                                                params={\"mixed_selection__threshold_in\":0.01,\n",
    "                                                        \"mixed_selection__threshold_out\":0.05,\n",
    "                                                        \"mixed_selection__verbose\":True},\n",
    "                                                verbose=True,\n",
    "                                                regressors=True,\n",
    "                                                ensemble=True,\n",
    "                                                featurePercentage=0.5,\n",
    "                                                n_jobs=3)"
   ]
  },
  {
   "cell_type": "markdown",
   "metadata": {},
   "source": [
    "## Parameters\n",
    "<hr>\n",
    "<p>Base sklearn objects will have the parameters object to tune them using the <code>sklearn</code> library</p>"
   ]
  },
  {
   "cell_type": "code",
   "execution_count": 19,
   "metadata": {},
   "outputs": [
    {
     "name": "stdout",
     "output_type": "stream",
     "text": [
      "*************************\n",
      "=> (Classifier) => Feature Selection Streamline: rfc --> abc --> svc\n",
      "*************************\n",
      "Constructed RandomForestClassifierPredictiveModel: rfc\n",
      "Returning rfc best estiminator\n",
      "Constructed AdaptiveBoostingClassifierPredictiveModel: abc\n",
      "Returning abc best estiminator\n",
      "Constructed SupportVectorClassifierPredictiveModel: svc\n",
      "Returning svc best estiminator\n",
      " 50.0  % -> (2) features kept.\n",
      "['petal length (cm)', 'petal width (cm)']\n"
     ]
    }
   ],
   "source": [
    "from sklearn.svm import SVC\n",
    "from sklearn.naive_bayes import GaussianNB\n",
    "from sklearn.ensemble import RandomForestClassifier\n",
    "from sklearn.linear_model import LogisticRegression\n",
    "\n",
    "params={'abc__algorithm':['SAMME'],\n",
    "        'abc__n_estimators':[50, 100, 150],\n",
    "        'rfc__n_estimators':[50, 100, 150],\n",
    "        'svc__C':list(np.arange(1e-5,1e-1,0.001)),\n",
    "        'svc__gamma':list(np.arange(1e-5,1e-1,0.001))}\n",
    "\n",
    "iris=load_iris()\n",
    "X=pd.DataFrame(iris['data'], columns=iris['feature_names'])\n",
    "y=pd.DataFrame(iris['target'], columns=['target'])\n",
    "\n",
    "return_dict = FeatureSelectionStream(X,y).flow([\"rfc\", \"abc\", \"svc\"],\n",
    "                                                params=params,\n",
    "                                                verbose=True,\n",
    "                                                regressors=False,\n",
    "                                                ensemble=True,\n",
    "                                                featurePercentage=0.5,\n",
    "                                                n_jobs=3)"
   ]
  },
  {
   "cell_type": "code",
   "execution_count": 18,
   "metadata": {},
   "outputs": [
    {
     "data": {
      "text/plain": [
       "{'feature_importances': {'rfc': array([0.11345457, 0.02500382, 0.4370457 , 0.42449591]),\n",
       "  'abc': array([0.02510157, 0.06064175, 0.37710141, 0.53715527]),\n",
       "  'svc': array([1.40048990e-03, 1.34620687e-04, 2.29755277e-01, 3.49448522e-02])},\n",
       " 'ensemble_results':                    TOPSIS  WeightedSum  WeightedProduct\n",
       " sepal length (cm)       4            4                3\n",
       " sepal width (cm)        3            3                4\n",
       " petal length (cm)       1            1                1\n",
       " petal width (cm)        2            2                2,\n",
       " 'kept_features': ['petal length (cm)', 'petal width (cm)']}"
      ]
     },
     "execution_count": 18,
     "metadata": {},
     "output_type": "execute_result"
    }
   ],
   "source": [
    "return_dict"
   ]
  },
  {
   "cell_type": "code",
   "execution_count": null,
   "metadata": {},
   "outputs": [],
   "source": []
  }
 ],
 "metadata": {
  "kernelspec": {
   "display_name": "Python 3",
   "language": "python",
   "name": "python3"
  },
  "language_info": {
   "codemirror_mode": {
    "name": "ipython",
    "version": 3
   },
   "file_extension": ".py",
   "mimetype": "text/x-python",
   "name": "python",
   "nbconvert_exporter": "python",
   "pygments_lexer": "ipython3",
   "version": "3.7.1"
  }
 },
 "nbformat": 4,
 "nbformat_minor": 2
}
